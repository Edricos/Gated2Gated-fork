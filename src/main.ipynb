{
 "cells": [
  {
   "cell_type": "code",
   "execution_count": null,
   "id": "initial_id",
   "metadata": {
    "collapsed": true
   },
   "outputs": [],
   "source": [
    "\n",
    "# 创建参数对象\n",
    "from src.optionsClass import TrainingOptions\n",
    "\n",
    "# Create an instance of TrainingOptions\n",
    "options = TrainingOptions()\n",
    "\n",
    "# Set the values as per the shell commands\n",
    "options.data_dir = \"./data\"\n",
    "options.log_dir = \"./logs\"\n",
    "options.coeff_fpath = \"chebychev\"\n",
    "options.depth_flat_world_fpath = \"depth_flat_world\"\n",
    "options.model_name = \"multinetwork\"\n",
    "options.model_type = \"multinetwork\"\n",
    "options.exp_name = \"multinetwork\"\n",
    "options.models_to_load = [\"depth\", \"ambient\", \"encoder\", \"albedo\", \"pose\", \"pose_encoder\"]\n",
    "options.load_weights_folder = \"./models/initialization\"\n",
    "options.exp_num = 0\n",
    "options.height = 512\n",
    "options.width = 1024\n",
    "options.num_bits = 10\n",
    "options.scales = [0]\n",
    "options.frame_ids = [0, -1, 1]\n",
    "options.pose_model_type = \"separate_resnet\"\n",
    "options.num_layers = 18\n",
    "options.weights_init = \"pretrained\"\n",
    "options.pose_model_input = \"pairs\"\n",
    "options.min_depth = 0.1\n",
    "options.max_depth = 100.0\n",
    "options.dataset = \"gated\"\n",
    "options.split = \"gated2gated\"\n",
    "options.batch_size = 4\n",
    "options.num_workers = 4\n",
    "options.learning_rate = 2e-4\n",
    "options.num_epochs = 20\n",
    "options.scheduler_step_size = 15\n",
    "options.disparity_smoothness = 0.001\n",
    "options.log_frequency = 200\n",
    "options.save_frequency = 1\n",
    "options.cycle_weight = 0.05\n",
    "options.depth_normalizer = 70.0\n",
    "options.passive_weight = 0.01\n",
    "options.cycle_loss = True\n",
    "options.temporal_loss = True\n",
    "options.sim_gated = True\n",
    "options.v1_multiscale = True\n",
    "options.infty_hole_mask = True\n",
    "options.snr_mask = True\n",
    "options.intensity_mask = True\n",
    "options.passive_supervision = True\n"
   ]
  },
  {
   "cell_type": "code",
   "execution_count": null,
   "outputs": [],
   "source": [],
   "metadata": {
    "collapsed": false
   },
   "id": "189612bc7c4e3816"
  }
 ],
 "metadata": {
  "kernelspec": {
   "display_name": "Python 3",
   "language": "python",
   "name": "python3"
  },
  "language_info": {
   "codemirror_mode": {
    "name": "ipython",
    "version": 2
   },
   "file_extension": ".py",
   "mimetype": "text/x-python",
   "name": "python",
   "nbconvert_exporter": "python",
   "pygments_lexer": "ipython2",
   "version": "2.7.6"
  }
 },
 "nbformat": 4,
 "nbformat_minor": 5
}
